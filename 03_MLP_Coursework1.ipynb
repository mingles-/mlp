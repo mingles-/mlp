{
 "cells": [
  {
   "cell_type": "markdown",
   "metadata": {},
   "source": [
    "# Coursework #1\n",
    "\n",
    "## Introduction\n",
    "\n",
    "This coursework is concerned with building multi-layer networks to address the MNIST digit classification problem. It builds on the previous labs, in particular [02_MNIST_SLN.ipynb](02_MNIST_SLN.ipynb) in which single layer networks were trained for MNIST digit classification.   The course will involve extending that code to use Sigmoid and Softmax layers, combining these into multi-layer networks, and carrying out a number of MNIST digit classification experiments, to investigate the effect of learning rate, the number of hidden units, and the number of hidden layers.\n",
    "\n",
    "The coursework is divided into 4 tasks:\n",
    "* **Task 1**:   *Implementing a sigmoid layer* - 15 marks.  \n",
    "This task involves extending the `Linear` class in file `mlp/layers.py` to `Sigmoid`, with code for forward prop, backprop computation of the gradient, and weight update.\n",
    "* **Task 2**:  *Implementing a softmax layer* - 15 marks.  \n",
    "This task involves extending the `Linear` class in file `mlp/layers.py` to `Softmax`, with code for forward prop, backprop computation of the gradient, and weight update.\n",
    "* **Task 3**:  *Constructing a multi-layer network* - 40 marks.  \n",
    "This task involves putting together a Sigmoid and a Softmax layer to create a multi-layer network, with one hidden layer (100 units) and one output layer, that is trained to classify MNIST digits.  This task will include reporting classification results, exploring the effect of learning rates, and plotting Hinton Diagrams for the hidden units and output units.\n",
    "* **Task 4**:  *Experiments with different architectures*  - 30 marks.  \n",
    "This task involves further MNIST classification experiments, primarily looking at the effect of using different numbers of hidden layers.\n",
    "The coursework will be marked out of 100, and will contribute 30% of the total mark in the MLP course.\n",
    "\n",
    "## Previous Tutorials\n",
    "\n",
    "Before starting this coursework make sure that you have completed the first three labs:\n",
    "\n",
    "* [00_Introduction.ipynb](00_Introduction.ipynb) - setting up your environment; *Solutions*: [00_Introduction_solution.ipynb](00_Introduction_solution.ipynb)\n",
    "* [01_Linear_Models.ipynb](01_Linear_Models.ipynb) - training single layer networks; *Solutions*: [01_Linear_Models_solution.ipynb](01_Linear_Models_solution.ipynb)\n",
    "* [02_MNIST_SLN.ipynb](02_MNIST_SLN.ipynb) - training a single layer network for MNIST digit classification\n",
    "\n",
    "To ensure that your virtual environment is correct, please see [this note](https://github.com/CSTR-Edinburgh/mlpractical/blob/master/kernel_issue_fix.md) on the GitHub.\n",
    "## Submission\n",
    "**Submission Deadline:  Thursday 29 October, 16:00** \n",
    "\n",
    "Submit the coursework as an ipython notebook file, using the `submit` command in the terminal on a DICE machine. If your file is `03_MLP_Coursework1.ipynb` then you would enter:\n",
    "\n",
    "`submit mlp 1 03_MLP_Coursework1.ipynb` \n",
    "\n",
    "where `mlp 1` indicates this is the first coursework of MLP.\n",
    "\n",
    "After submitting, you should receive an email of acknowledgment from the system confirming that your submission has been received successfully. Keep the email as evidence of your coursework submission.\n",
    "\n",
    "**Please make sure you submit a single `ipynb` file (and nothing else)!**\n",
    "\n",
    "**Submission Deadline:  Thursday 29 October, 16:00** \n",
    "\n"
   ]
  },
  {
   "cell_type": "markdown",
   "metadata": {},
   "source": [
    "## Getting Started\n",
    "Please enter your exam number and the date in the next code cell."
   ]
  },
  {
   "cell_type": "code",
   "execution_count": null,
   "metadata": {
    "collapsed": true
   },
   "outputs": [],
   "source": [
    "#MLP Coursework 1\n",
    "#Exam number: B035680\n",
    "#Date: 19.10.2015\n",
    "\n"
   ]
  },
  {
   "cell_type": "markdown",
   "metadata": {},
   "source": [
    "Please run the next code cell, which imports `numpy` and seeds the random number generator.  Please **do not** modify the random number generator seed!"
   ]
  },
  {
   "cell_type": "code",
   "execution_count": 1,
   "metadata": {
    "collapsed": false
   },
   "outputs": [],
   "source": [
    "import numpy\n",
    "\n",
    "#Seed a random number generator running the below cell, but do **not** modify the seed.\n",
    "rng = numpy.random.RandomState([2015,10,10])\n",
    "rng_state = rng.get_state()"
   ]
  },
  {
   "cell_type": "markdown",
   "metadata": {},
   "source": [
    "## Task 1 - Sigmoid Layer (15%)\n",
    "\n",
    "In this task you need to create a class `Sigmoid` which encapsulates a layer of sigmoid units.  You should do this by extending the `mlp.layers.Linear` class (in file `mlp/layers.py`), which implements a a layer of linear units (i.e. weighted sum plus bias).  The `Sigmoid` class extends this by applying the sigmoid transfer function to the weighted sum in the forward propagation, and applying the derivative of the sigmoid in the gradient descent back propagation and computing the gradients with respect to layer's parameters. Do **not** copy the implementation provided in `Linear` class but rather, **reuse** it through inheritance.\n",
    "\n",
    "When you have implemented `Sigmoid` (in the `mlp.layers` module), then please test it by running the below code cell.\n"
   ]
  },
  {
   "cell_type": "code",
   "execution_count": 4,
   "metadata": {
    "collapsed": false
   },
   "outputs": [
    {
     "name": "stdout",
     "output_type": "stream",
     "text": [
      "4.21941537867\n",
      "25.9255147706\n",
      "4.1105500626\n",
      "[ 0.067  0.728  0.999  0.512  0.159  0.584  0.238  0.932]\n",
      "[ -1.263e+00   1.037e+01   0.000e+00   1.249e-02   6.678e-03   1.191e+01\n",
      "   3.628e+00   1.268e+00]\n",
      "[ 1.406  0.078 -0.268  0.418  1.646  0.831]\n"
     ]
    }
   ],
   "source": [
    "from mlp.layers import Sigmoid\n",
    "\n",
    "a = numpy.asarray([-20.1, 52.4, 0, 0.05, 0.05, 49])\n",
    "b = numpy.asarray([-20.1, 52.4, 0, 0.05, 0.05, 49, 20, 20])\n",
    "\n",
    "rng.set_state(rng_state)\n",
    "sigm = Sigmoid(idim=a.shape[0], odim=b.shape[0], rng=rng)\n",
    "\n",
    "fp = sigm.fprop(a)\n",
    "deltas, ograds  = sigm.bprop(h=fp, igrads=b)\n",
    "\n",
    "print fp.sum()\n",
    "print deltas.sum()\n",
    "print ograds.sum()\n",
    "%precision 3\n",
    "print fp\n",
    "print deltas\n",
    "print ograds\n"
   ]
  },
  {
   "cell_type": "markdown",
   "metadata": {},
   "source": [
    "***\n",
    "To include the `Sigmoid` code in the notebook please run the below code cell.  (The `%load` notebook command is used to load the source of the `Sigmoid` class from `mlp/layers.py`.)"
   ]
  },
  {
   "cell_type": "code",
   "execution_count": null,
   "metadata": {
    "collapsed": true
   },
   "outputs": [],
   "source": [
    "# %load -s Sigmoid mlp/layers.py\n",
    "class Sigmoid(Linear):\n",
    "\n",
    "    def sigmoid(self, number):\n",
    "        \"\"\"\n",
    "        :param number: number to be put through sigmoid function\n",
    "        :return: number ran through sigmoid function\n",
    "        \"\"\"\n",
    "        the_sigmoid = 1.0 / (1 + numpy.exp(-number))\n",
    "        return the_sigmoid\n",
    "\n",
    "    def sigmoid_derivative(self, number):\n",
    "        \"\"\"\n",
    "        :param number: number to be put through sigmoid derivative function\n",
    "        :return: number ran through sigmoid function\n",
    "        \"\"\"\n",
    "        the_sigmoid_derivative = self.sigmoid(number) * (1 - self.sigmoid(number))\n",
    "        return the_sigmoid_derivative\n",
    "\n",
    "    def fprop(self, inputs):\n",
    "        \"\"\"\n",
    "        Implements a forward propagation through the i-th layer, that is\n",
    "        some form of:\n",
    "           a^i = xW^i + b^i\n",
    "           h^i = f^i(a^i)\n",
    "        with f^i, W^i, b^i denoting a non-linearity, weight matrix and\n",
    "        biases of this (i-th) layer, respectively and x denoting inputs.\n",
    "\n",
    "        :param inputs: matrix of features (x) or the output of the previous layer h^{i-1}\n",
    "        :return: h^i, matrix of transformed by layer features\n",
    "        \"\"\"\n",
    "        a = numpy.dot(inputs, self.W) + self.b\n",
    "        # here f() is an identity function, so just return a linear transformation\n",
    "\n",
    "        for i in range(0, len(a)):\n",
    "            for j in range(0, len(a[i])):\n",
    "                a[i][j] = self.sigmoid(a[i][j])\n",
    "\n",
    "        return a\n",
    "\n",
    "    def bprop(self, h, igrads):\n",
    "        \"\"\"\n",
    "        Implements a backward propagation through the layer, that is, given\n",
    "        h^i denotes the output of the layer and x^i the input, we compute:\n",
    "        dh^i/dx^i which by chain rule is dh^i/da^i da^i/dx^i\n",
    "        x^i could be either features (x) or the output of the lower layer h^{i-1}\n",
    "        :param h: it's an activation produced in forward pass\n",
    "        :param igrads, error signal (or gradient) flowing to the layer, note,\n",
    "               this in general case does not corresponds to 'deltas' used to update\n",
    "               the layer's parameters, to get deltas ones need to multiply it with\n",
    "               the dh^i/da^i derivative\n",
    "        :return: a tuple (deltas, ograds) where:\n",
    "               deltas = igrads * dh^i/da^i\n",
    "               ograds = deltas \\times da^i/dx^i\n",
    "        \"\"\"\n",
    "\n",
    "        # since df^i/da^i = 1 (f is assumed identity function),\n",
    "        # deltas are in fact the same as igrads\n",
    "        ograds = numpy.dot(igrads, self.W.T)\n",
    "        return igrads, ograds\n",
    "\n",
    "        \n",
    "    def get_name(self):\n",
    "        return 'sigmoid'\n"
   ]
  },
  {
   "cell_type": "markdown",
   "metadata": {},
   "source": [
    "## Task 2 - Softmax (15%)\n",
    "\n",
    "In this task you need to create a class `Softmax` which encapsulates a layer of softmax units.  As in the previous task, you should do this by extending the `mlp.layers.Linear` class (in file `mlp/layers.py`).\n",
    "\n",
    "When you have implemented `Softmax` (in the `mlp.layers` module), then please test it by running the below code cell.\n"
   ]
  },
  {
   "cell_type": "code",
   "execution_count": 3,
   "metadata": {
    "collapsed": false
   },
   "outputs": [
    {
     "name": "stdout",
     "output_type": "stream",
     "text": [
      "1.0\n",
      "0.0\n",
      "0.0744177068753\n",
      "[  4.571e-05   1.697e-03   9.877e-01   6.631e-04   1.194e-04   8.880e-04\n",
      "   1.977e-04   8.671e-03]\n",
      "[  4.571e-05   1.697e-03   9.877e-01   6.631e-04   1.194e-04   8.880e-04\n",
      "   1.977e-04  -9.913e-01]\n",
      "[-0.089  0.03   0.079  0.011  0.017  0.027]\n"
     ]
    }
   ],
   "source": [
    "from mlp.layers import Softmax\n",
    "\n",
    "a = numpy.asarray([-20.1, 52.4, 0, 0.05, 0.05, 49])\n",
    "b = numpy.asarray([0, 0, 0, 0, 0, 0, 0, 1])\n",
    "\n",
    "rng.set_state(rng_state)\n",
    "softmax = Softmax(idim=a.shape[0], odim=b.shape[0], rng=rng)\n",
    "\n",
    "fp = softmax.fprop(a)\n",
    "deltas, ograds = softmax.bprop_cost(h=None, igrads=fp-b, cost=None)\n",
    "\n",
    "print fp.sum()\n",
    "print deltas.sum()\n",
    "print ograds.sum()\n",
    "%precision 3\n",
    "print fp\n",
    "print deltas\n",
    "print ograds\n"
   ]
  },
  {
   "cell_type": "markdown",
   "metadata": {},
   "source": [
    "***\n",
    "To include the `Softmax` code in the notebook please run the below code cell.  (The notebook `%load` command is used to load the source of the `Softmax` class from `mlp/layers.py`.)"
   ]
  },
  {
   "cell_type": "code",
   "execution_count": null,
   "metadata": {
    "collapsed": true
   },
   "outputs": [],
   "source": [
    "%load -s Softmax mlp/layers.py"
   ]
  },
  {
   "cell_type": "markdown",
   "metadata": {},
   "source": [
    "## Task 3 - Multi-layer network for MNIST classification (40%)\n",
    "\n",
    "**(a)** (20%)  Building on the single layer linear network for MNIST classification used in lab [02_MNIST_SLN.ipynb](02_MNIST_SLN.ipynb), and using the `Sigmoid` and `Softmax` classes that you implemented in tasks 1 and 2, construct and learn a model that classifies MNIST images and:\n",
    "   * Has one hidden layer with a sigmoid transfer function and 100 units\n",
    "   * Uses a softmax output layer to discriminate between the 10 digit classes (use the `mlp.costs.CECost()` cost)\n",
    "\n",
    "Your code should print the final values of the error function and the classification accuracy for train, validation, and test sets (please keep also the log information printed by default by the optimiser). Limit the number of training epochs to 30. You can, of course, split your code across as many cells as you think is necessary."
   ]
  },
  {
   "cell_type": "code",
   "execution_count": 63,
   "metadata": {
    "collapsed": false
   },
   "outputs": [
    {
     "name": "stderr",
     "output_type": "stream",
     "text": [
      "INFO:root:Initialising data providers...\n",
      "INFO:root:Training started...\n",
      "INFO:mlp.optimisers:Epoch 0: Training cost (ce) for random model is 2.402. Accuracy is 9.02%\n",
      "INFO:mlp.optimisers:Epoch 0: Validation cost (ce) for random model is 2.391. Accuracy is 9.17%\n",
      "INFO:mlp.optimisers:Epoch 1: Training cost (ce) is 2.209. Accuracy is 36.56%\n",
      "INFO:mlp.optimisers:Epoch 1: Validation cost (ce) is 2.091. Accuracy is 57.40%\n",
      "INFO:mlp.optimisers:Epoch 1: Took 18 seconds. Training speed 3240 pps. Validation speed 4156 pps.\n",
      "INFO:mlp.optimisers:Epoch 2: Training cost (ce) is 1.955. Accuracy is 62.49%\n",
      "INFO:mlp.optimisers:Epoch 2: Validation cost (ce) is 1.785. Accuracy is 70.14%\n",
      "INFO:mlp.optimisers:Epoch 2: Took 18 seconds. Training speed 3246 pps. Validation speed 4250 pps.\n",
      "INFO:mlp.optimisers:Epoch 3: Training cost (ce) is 1.627. Accuracy is 69.57%\n",
      "INFO:mlp.optimisers:Epoch 3: Validation cost (ce) is 1.439. Accuracy is 74.24%\n",
      "INFO:mlp.optimisers:Epoch 3: Took 18 seconds. Training speed 3290 pps. Validation speed 4321 pps.\n",
      "INFO:mlp.optimisers:Epoch 4: Training cost (ce) is 1.318. Accuracy is 73.97%\n",
      "INFO:mlp.optimisers:Epoch 4: Validation cost (ce) is 1.162. Accuracy is 79.13%\n",
      "INFO:mlp.optimisers:Epoch 4: Took 17 seconds. Training speed 3303 pps. Validation speed 4612 pps.\n",
      "INFO:mlp.optimisers:Epoch 5: Training cost (ce) is 1.092. Accuracy is 77.60%\n",
      "INFO:mlp.optimisers:Epoch 5: Validation cost (ce) is 0.970. Accuracy is 81.79%\n",
      "INFO:mlp.optimisers:Epoch 5: Took 17 seconds. Training speed 3419 pps. Validation speed 4716 pps.\n",
      "INFO:mlp.optimisers:Epoch 6: Training cost (ce) is 0.935. Accuracy is 80.01%\n",
      "INFO:mlp.optimisers:Epoch 6: Validation cost (ce) is 0.837. Accuracy is 83.34%\n",
      "INFO:mlp.optimisers:Epoch 6: Took 17 seconds. Training speed 3448 pps. Validation speed 4753 pps.\n",
      "INFO:mlp.optimisers:Epoch 7: Training cost (ce) is 0.825. Accuracy is 81.77%\n",
      "INFO:mlp.optimisers:Epoch 7: Validation cost (ce) is 0.741. Accuracy is 84.71%\n",
      "INFO:mlp.optimisers:Epoch 7: Took 17 seconds. Training speed 3456 pps. Validation speed 4652 pps.\n",
      "INFO:mlp.optimisers:Epoch 8: Training cost (ce) is 0.744. Accuracy is 83.14%\n",
      "INFO:mlp.optimisers:Epoch 8: Validation cost (ce) is 0.670. Accuracy is 85.68%\n",
      "INFO:mlp.optimisers:Epoch 8: Took 17 seconds. Training speed 3341 pps. Validation speed 4115 pps.\n",
      "INFO:mlp.optimisers:Epoch 9: Training cost (ce) is 0.682. Accuracy is 84.07%\n",
      "INFO:mlp.optimisers:Epoch 9: Validation cost (ce) is 0.615. Accuracy is 86.48%\n",
      "INFO:mlp.optimisers:Epoch 9: Took 18 seconds. Training speed 3128 pps. Validation speed 4602 pps.\n",
      "INFO:mlp.optimisers:Epoch 10: Training cost (ce) is 0.633. Accuracy is 84.94%\n",
      "INFO:mlp.optimisers:Epoch 10: Validation cost (ce) is 0.571. Accuracy is 87.13%\n",
      "INFO:mlp.optimisers:Epoch 10: Took 17 seconds. Training speed 3423 pps. Validation speed 4654 pps.\n",
      "INFO:mlp.optimisers:Epoch 11: Training cost (ce) is 0.594. Accuracy is 85.68%\n",
      "INFO:mlp.optimisers:Epoch 11: Validation cost (ce) is 0.536. Accuracy is 87.63%\n",
      "INFO:mlp.optimisers:Epoch 11: Took 17 seconds. Training speed 3455 pps. Validation speed 4651 pps.\n",
      "INFO:mlp.optimisers:Epoch 12: Training cost (ce) is 0.562. Accuracy is 86.28%\n",
      "INFO:mlp.optimisers:Epoch 12: Validation cost (ce) is 0.507. Accuracy is 88.19%\n",
      "INFO:mlp.optimisers:Epoch 12: Took 17 seconds. Training speed 3435 pps. Validation speed 4696 pps.\n",
      "INFO:mlp.optimisers:Epoch 13: Training cost (ce) is 0.535. Accuracy is 86.79%\n",
      "INFO:mlp.optimisers:Epoch 13: Validation cost (ce) is 0.483. Accuracy is 88.50%\n",
      "INFO:mlp.optimisers:Epoch 13: Took 17 seconds. Training speed 3425 pps. Validation speed 4611 pps.\n",
      "INFO:mlp.optimisers:Epoch 14: Training cost (ce) is 0.512. Accuracy is 87.26%\n",
      "INFO:mlp.optimisers:Epoch 14: Validation cost (ce) is 0.463. Accuracy is 88.83%\n",
      "INFO:mlp.optimisers:Epoch 14: Took 17 seconds. Training speed 3436 pps. Validation speed 4684 pps.\n",
      "INFO:mlp.optimisers:Epoch 15: Training cost (ce) is 0.492. Accuracy is 87.57%\n",
      "INFO:mlp.optimisers:Epoch 15: Validation cost (ce) is 0.445. Accuracy is 89.15%\n",
      "INFO:mlp.optimisers:Epoch 15: Took 17 seconds. Training speed 3437 pps. Validation speed 4658 pps.\n",
      "INFO:mlp.optimisers:Epoch 16: Training cost (ce) is 0.475. Accuracy is 87.90%\n",
      "INFO:mlp.optimisers:Epoch 16: Validation cost (ce) is 0.430. Accuracy is 89.47%\n",
      "INFO:mlp.optimisers:Epoch 16: Took 17 seconds. Training speed 3435 pps. Validation speed 4714 pps.\n",
      "INFO:mlp.optimisers:Epoch 17: Training cost (ce) is 0.460. Accuracy is 88.18%\n",
      "INFO:mlp.optimisers:Epoch 17: Validation cost (ce) is 0.417. Accuracy is 89.63%\n",
      "INFO:mlp.optimisers:Epoch 17: Took 17 seconds. Training speed 3451 pps. Validation speed 4725 pps.\n",
      "INFO:mlp.optimisers:Epoch 18: Training cost (ce) is 0.447. Accuracy is 88.38%\n",
      "INFO:mlp.optimisers:Epoch 18: Validation cost (ce) is 0.405. Accuracy is 89.84%\n",
      "INFO:mlp.optimisers:Epoch 18: Took 17 seconds. Training speed 3449 pps. Validation speed 4618 pps.\n",
      "INFO:mlp.optimisers:Epoch 19: Training cost (ce) is 0.435. Accuracy is 88.60%\n",
      "INFO:mlp.optimisers:Epoch 19: Validation cost (ce) is 0.395. Accuracy is 90.00%\n",
      "INFO:mlp.optimisers:Epoch 19: Took 17 seconds. Training speed 3361 pps. Validation speed 3975 pps.\n",
      "INFO:mlp.optimisers:Epoch 20: Training cost (ce) is 0.425. Accuracy is 88.77%\n",
      "INFO:mlp.optimisers:Epoch 20: Validation cost (ce) is 0.386. Accuracy is 90.14%\n",
      "INFO:mlp.optimisers:Epoch 20: Took 18 seconds. Training speed 3139 pps. Validation speed 4161 pps.\n",
      "INFO:mlp.optimisers:Epoch 21: Training cost (ce) is 0.415. Accuracy is 89.01%\n",
      "INFO:mlp.optimisers:Epoch 21: Validation cost (ce) is 0.378. Accuracy is 90.22%\n",
      "INFO:mlp.optimisers:Epoch 21: Took 18 seconds. Training speed 3115 pps. Validation speed 4111 pps.\n",
      "INFO:mlp.optimisers:Epoch 22: Training cost (ce) is 0.407. Accuracy is 89.10%\n",
      "INFO:mlp.optimisers:Epoch 22: Validation cost (ce) is 0.370. Accuracy is 90.32%\n",
      "INFO:mlp.optimisers:Epoch 22: Took 18 seconds. Training speed 3159 pps. Validation speed 4355 pps.\n",
      "INFO:mlp.optimisers:Epoch 23: Training cost (ce) is 0.399. Accuracy is 89.25%\n",
      "INFO:mlp.optimisers:Epoch 23: Validation cost (ce) is 0.364. Accuracy is 90.50%\n",
      "INFO:mlp.optimisers:Epoch 23: Took 18 seconds. Training speed 3219 pps. Validation speed 4208 pps.\n",
      "INFO:mlp.optimisers:Epoch 24: Training cost (ce) is 0.392. Accuracy is 89.37%\n",
      "INFO:mlp.optimisers:Epoch 24: Validation cost (ce) is 0.358. Accuracy is 90.45%\n",
      "INFO:mlp.optimisers:Epoch 24: Took 18 seconds. Training speed 3282 pps. Validation speed 4203 pps.\n",
      "INFO:mlp.optimisers:Epoch 25: Training cost (ce) is 0.386. Accuracy is 89.44%\n",
      "INFO:mlp.optimisers:Epoch 25: Validation cost (ce) is 0.352. Accuracy is 90.52%\n",
      "INFO:mlp.optimisers:Epoch 25: Took 18 seconds. Training speed 3168 pps. Validation speed 4196 pps.\n",
      "INFO:mlp.optimisers:Epoch 26: Training cost (ce) is 0.380. Accuracy is 89.58%\n",
      "INFO:mlp.optimisers:Epoch 26: Validation cost (ce) is 0.347. Accuracy is 90.70%\n",
      "INFO:mlp.optimisers:Epoch 26: Took 18 seconds. Training speed 3224 pps. Validation speed 4423 pps.\n",
      "INFO:mlp.optimisers:Epoch 27: Training cost (ce) is 0.375. Accuracy is 89.67%\n",
      "INFO:mlp.optimisers:Epoch 27: Validation cost (ce) is 0.342. Accuracy is 90.77%\n",
      "INFO:mlp.optimisers:Epoch 27: Took 17 seconds. Training speed 3296 pps. Validation speed 4341 pps.\n",
      "INFO:mlp.optimisers:Epoch 28: Training cost (ce) is 0.370. Accuracy is 89.76%\n",
      "INFO:mlp.optimisers:Epoch 28: Validation cost (ce) is 0.338. Accuracy is 90.81%\n",
      "INFO:mlp.optimisers:Epoch 28: Took 17 seconds. Training speed 3299 pps. Validation speed 4343 pps.\n",
      "INFO:mlp.optimisers:Epoch 29: Training cost (ce) is 0.365. Accuracy is 89.87%\n",
      "INFO:mlp.optimisers:Epoch 29: Validation cost (ce) is 0.334. Accuracy is 90.86%\n",
      "INFO:mlp.optimisers:Epoch 29: Took 18 seconds. Training speed 3134 pps. Validation speed 3979 pps.\n",
      "INFO:mlp.optimisers:Epoch 30: Training cost (ce) is 0.361. Accuracy is 89.98%\n",
      "INFO:mlp.optimisers:Epoch 30: Validation cost (ce) is 0.330. Accuracy is 90.92%\n",
      "INFO:mlp.optimisers:Epoch 30: Took 18 seconds. Training speed 3124 pps. Validation speed 4053 pps.\n",
      "INFO:root:Testing the model on test set:\n",
      "INFO:root:MNIST test set accuracy is 90.71 % (cost is 0.339)\n"
     ]
    }
   ],
   "source": [
    "# include here the complete code that constructs the model, performs training,\n",
    "# and prints the error and accuracy for train/valid/test\n",
    "\n",
    "import numpy\n",
    "import logging\n",
    "\n",
    "logger = logging.getLogger()\n",
    "logger.setLevel(logging.INFO)\n",
    "\n",
    "from mlp.layers import MLP, Linear, Sigmoid, Softmax #import required layer types\n",
    "from mlp.optimisers import SGDOptimiser #import the optimiser\n",
    "from mlp.dataset import MNISTDataProvider #import data provider\n",
    "from mlp.costs import MSECost, CECost #import the cost we want to use for optimisation\n",
    "from mlp.schedulers import LearningRateFixed\n",
    "\n",
    "# define the model structure, here just one linear layer\n",
    "# and mean square error cost\n",
    "cost = CECost()\n",
    "model = MLP(cost=cost)\n",
    "model.add_layer(Sigmoid(idim=784, odim=100, rng=rng))\n",
    "model.add_layer(Softmax(idim=100, odim=10, rng=rng))\n",
    "#one can stack more layers here\n",
    "\n",
    "# define the optimiser, here stochasitc gradient descent\n",
    "# with fixed learning rate and max_epochs as stopping criterion\n",
    "lr_scheduler = LearningRateFixed(learning_rate=0.01, max_epochs=30)\n",
    "optimiser = SGDOptimiser(lr_scheduler=lr_scheduler)\n",
    "\n",
    "logger.info('Initialising data providers...')\n",
    "train_dp = MNISTDataProvider(dset='train', batch_size=100, max_num_batches=-10, randomize=True)\n",
    "valid_dp = MNISTDataProvider(dset='valid', batch_size=100, max_num_batches=-10, randomize=False)\n",
    "\n",
    "logger.info('Training started...')\n",
    "optimiser.train(model, train_dp, valid_dp)\n",
    "\n",
    "logger.info('Testing the model on test set:')\n",
    "test_dp = MNISTDataProvider(dset='eval', batch_size=100, max_num_batches=-10, randomize=False)\n",
    "cost, accuracy = optimiser.validate(model, test_dp)\n",
    "logger.info('MNIST test set accuracy is %.2f %% (cost is %.3f)'%(accuracy*100., cost))"
   ]
  },
  {
   "cell_type": "markdown",
   "metadata": {},
   "source": [
    "**(b)** (10%) Investigate the impact of different learning rates $\\eta \\in \\{0.5, 0.2, 0.1, 0.05, 0.01, 0.005\\}$ on the convergence of the network training as well as the final accuracy:\n",
    "   * Plot (on a single graph) the error rate curves for each learning rate as a function of training epochs for training set\n",
    "   * Plot (on another single graph) the error rate curves as a function of training epochs for validation set\n",
    "   * Include a table of the corresponding error rates for test set\n",
    "\n",
    "The notebook command `%matplotlib inline` ensures that your graphs will be added to the notebook, rather than opened as additional windows."
   ]
  },
  {
   "cell_type": "code",
   "execution_count": 66,
   "metadata": {
    "collapsed": false
   },
   "outputs": [
    {
     "name": "stderr",
     "output_type": "stream",
     "text": [
      "WARNING:root:Initialising data providers...\n",
      "WARNING:root:Training started for eta 0.5...\n",
      "WARNING:root:Initialising data providers...\n",
      "WARNING:root:Training started for eta 0.2...\n",
      "WARNING:root:Initialising data providers...\n",
      "WARNING:root:Training started for eta 0.1...\n",
      "WARNING:root:Initialising data providers...\n",
      "WARNING:root:Training started for eta 0.05...\n",
      "WARNING:root:Initialising data providers...\n",
      "WARNING:root:Training started for eta 0.01...\n",
      "WARNING:root:Initialising data providers...\n",
      "WARNING:root:Training started for eta 0.005...\n"
     ]
    },
    {
     "data": {
      "text/html": [
       "<br><table><tr><td><b>Eta</b></td><td><b>Error Rates</b></td></tr><tr><td>0.5</td><td>0.0235</td></tr><tr><td>0.2</td><td>0.0325</td></tr><tr><td>0.1</td><td>0.0424</td></tr><tr><td>0.05</td><td>0.0587</td></tr><tr><td>0.01</td><td>0.0944</td></tr><tr><td>0.005</td><td>0.114</td></tr></table>"
      ],
      "text/plain": [
       "<IPython.core.display.HTML object>"
      ]
     },
     "execution_count": 66,
     "metadata": {},
     "output_type": "execute_result"
    },
    {
     "data": {
      "image/png": "[encoded data removed]",
      "text/plain": [
       "<matplotlib.figure.Figure at 0x108a92ad0>"
      ]
     },
     "metadata": {},
     "output_type": "display_data"
    }
   ],
   "source": [
    "%matplotlib inline\n",
    "\n",
    "# include here the complete code that constructs the model, performs training,\n",
    "# and prints the error and accuracy for train/valid/test\n",
    "\n",
    "import numpy\n",
    "import logging\n",
    "import matplotlib.pyplot as plt\n",
    "\n",
    "logger = logging.getLogger()\n",
    "logger.setLevel(logging.WARNING)\n",
    "\n",
    "from mlp.layers import MLP, Linear, Sigmoid, Softmax #import required layer types\n",
    "from mlp.optimisers import SGDOptimiser #import the optimiser\n",
    "from mlp.dataset import MNISTDataProvider #import data provider\n",
    "from mlp.costs import MSECost, CECost #import the cost we want to use for optimisation\n",
    "from mlp.schedulers import LearningRateFixed\n",
    "\n",
    "etas = [0.5, 0.2, 0.1, 0.05, 0.01, 0.005]\n",
    "error_rates = []\n",
    "\n",
    "plt.figure(figsize=(15, 10))\n",
    "\n",
    "for eta in etas:\n",
    "    # define the model structure, here just one linear layer\n",
    "    # and mean square error cost\n",
    "    cost = CECost()\n",
    "    model = MLP(cost=cost)\n",
    "    model.add_layer(Sigmoid(idim=784, odim=100, rng=rng))\n",
    "    model.add_layer(Softmax(idim=100, odim=10, rng=rng))\n",
    "    #one can stack more layers here\n",
    "\n",
    "    # define the optimiser, here stochasitc gradient descent\n",
    "    # with fixed learning rate and max_epochs as stopping criterion\n",
    "    lr_scheduler = LearningRateFixed(learning_rate=eta, max_epochs=30)\n",
    "    optimiser = SGDOptimiser(lr_scheduler=lr_scheduler)\n",
    "\n",
    "    logger.warning('Initialising data providers...')\n",
    "    train_dp = MNISTDataProvider(dset='train', batch_size=100, max_num_batches=-10, randomize=True)\n",
    "    valid_dp = MNISTDataProvider(dset='valid', batch_size=100, max_num_batches=-10, randomize=False)\n",
    "\n",
    "    logger.warning('Training started for eta {0}...'.format(eta))\n",
    "    training_stats, validation_stats = optimiser.train(model, train_dp, valid_dp)\n",
    "    \n",
    "    logger.info('Testing the model on test set:')\n",
    "    test_dp = MNISTDataProvider(dset='eval', batch_size=100, max_num_batches=-10, randomize=False)\n",
    "    cost, accuracy = optimiser.validate(model, test_dp)\n",
    "    logger.info('MNIST test set accuracy is %.2f %% (cost is %.3f)'%(accuracy*100., cost))\n",
    "\n",
    "    error_rates.append(1-accuracy)\n",
    "    \n",
    "    plt.subplot(2,1,1)\n",
    "    train_errors = []\n",
    "    for training_stat in training_stats:\n",
    "        train_errors.append(1 - training_stat[1])\n",
    "    \n",
    "    plt.plot(train_errors, label=\"eta = \" + str(eta))\n",
    "    \n",
    "    plt.subplot(2,1,2)\n",
    "    validation_errors = []\n",
    "    for validation_stat in validation_stats:\n",
    "        validation_errors.append(1 - validation_stat[1])\n",
    "\n",
    "    plt.plot(validation_errors, label=\"eta = \" + str(eta))\n",
    "    \n",
    "plt.subplot(2,1,1)\n",
    "plt.xlabel(\"Number of Epocs\")\n",
    "plt.ylabel(\"Training Error Value\")\n",
    "plt.legend()\n",
    "plt.grid()\n",
    "\n",
    "plt.subplot(2,1,2)\n",
    "plt.xlabel(\"Number of Epocs\")\n",
    "plt.ylabel(\"Validation Error Value\")\n",
    "plt.legend()\n",
    "plt.grid()\n",
    "\n",
    "plt.show\n",
    "\n",
    "from IPython.core.display import HTML\n",
    "text = \"<br><table><tr><td><b>Eta</b></td><td><b>Error Rates</b></td></tr>\"\n",
    "for i in range(0, len(error_rates)):\n",
    "    text = text + \"<tr><td>\"+ str(etas[i])+\"</td><td>\" + str(error_rates[i]) + \"</td></tr>\"\n",
    "text = text + \"</table>\"\n",
    "HTML(text)"
   ]
  },
  {
   "cell_type": "markdown",
   "metadata": {},
   "source": [
    "**(c)** (10%) Plot the following graphs:\n",
    "  * Display the 784-element weight vector of each of the 100 hidden units as 10x10 grid plot of 28x28 images, in order to visualise what features of the input they are encoding.  To do this, take the weight vector of each hidden unit, reshape to 28x28, and plot using the `imshow` function).\n",
    "  * Plot a Hinton Diagram of the output layer weight matrix for digits 0 and 1"
   ]
  },
  {
   "cell_type": "code",
   "execution_count": null,
   "metadata": {
    "collapsed": false
   },
   "outputs": [
    {
     "name": "stderr",
     "output_type": "stream",
     "text": [
      "WARNING:root:Initialising data providers...\n",
      "WARNING:root:Training started...\n"
     ]
    }
   ],
   "source": [
    "%matplotlib inline\n",
    "\n",
    "# include here the complete code that constructs the model, performs training,\n",
    "# and prints the error and accuracy for train/valid/test\n",
    "\n",
    "import numpy\n",
    "import logging\n",
    "import matplotlib.pyplot as plt\n",
    "\n",
    "logger = logging.getLogger()\n",
    "logger.setLevel(logging.WARNING)\n",
    "\n",
    "from mlp.layers import MLP, Linear, Sigmoid, Softmax #import required layer types\n",
    "from mlp.optimisers import SGDOptimiser #import the optimiser\n",
    "from mlp.dataset import MNISTDataProvider #import data provider\n",
    "from mlp.costs import MSECost, CECost #import the cost we want to use for optimisation\n",
    "from mlp.schedulers import LearningRateFixed\n",
    "\n",
    "# define the model structure, here just one linear layer\n",
    "# and mean square error cost\n",
    "cost = CECost()\n",
    "model = MLP(cost=cost)\n",
    "model.add_layer(Sigmoid(idim=784, odim=100, rng=rng))\n",
    "model.add_layer(Softmax(idim=100, odim=10, rng=rng))\n",
    "#one can stack more layers here\n",
    "\n",
    "# define the optimiser, here stochasitc gradient descent\n",
    "# with fixed learning rate and max_epochs as stopping criterion\n",
    "lr_scheduler = LearningRateFixed(learning_rate=0.5, max_epochs=30)\n",
    "optimiser = SGDOptimiser(lr_scheduler=lr_scheduler)\n",
    "\n",
    "logger.warning('Initialising data providers...')\n",
    "train_dp = MNISTDataProvider(dset='train', batch_size=100, max_num_batches=-10, randomize=True)\n",
    "valid_dp = MNISTDataProvider(dset='valid', batch_size=100, max_num_batches=-10, randomize=False)\n",
    "\n",
    "logger.warning('Training started...')\n",
    "training_stats, validation_stats = optimiser.train(model, train_dp, valid_dp)\n",
    "\n",
    "logger.warning('Testing the model on test set:')\n",
    "test_dp = MNISTDataProvider(dset='eval', batch_size=100, max_num_batches=-10, randomize=False)\n",
    "cost, accuracy = optimiser.validate(model, test_dp)\n",
    "logger.info('MNIST test set accuracy is %.2f %% (cost is %.3f)'%(accuracy*100., cost))\n",
    "\n",
    "figure, axis = plt.subplots(10,10, figsize=(15,15))\n",
    "for i in range(0,10):\n",
    "    for j in range(0,10):\n",
    "        inputs = []\n",
    "        for weight in model.layers[0].W:\n",
    "            inputs.append(weight[i * 10 + j])\n",
    "            \n",
    "        inputs = numpy.array(inputs)\n",
    "        axis[i,j].imshow(inputs.reshape(28,28))\n",
    "plt.show()\n",
    "\n",
    "figure, axis2 = plt.subplots(1,2, figsize=(10,10))\n",
    "\n",
    "inputs = []\n",
    "for i in [0, 1]:\n",
    "    inputs = model.layers[1].W.T[i]\n",
    "    hinton(inputs.reshape(10,10), max_weight=numpy.max(numpy.abs(inputs)), ax=axis2[i])\n",
    "plt.show()\n",
    "\n",
    "\n",
    "\"\"\"\n",
    "hinton method taken from http://matplotlib.org/examples/specialty_plots/hinton_demo.html\n",
    "\"\"\"\n",
    "def hinton(matrix, max_weight=None, ax=None):\n",
    "    \"\"\"Draw Hinton diagram for visualizing a weight matrix.\"\"\"\n",
    "    ax = ax if ax is not None else plt.gca()\n",
    "\n",
    "    if not max_weight:\n",
    "        max_weight = 2**numpy.ceil(numpy.log(numpy.abs(matrix).max())/numpy.log(2))\n",
    "\n",
    "    ax.patch.set_facecolor('gray')\n",
    "    ax.set_aspect('equal', 'box')\n",
    "    ax.xaxis.set_major_locator(plt.NullLocator())\n",
    "    ax.yaxis.set_major_locator(plt.NullLocator())\n",
    "\n",
    "    for (x,y),w in numpy.ndenumerate(matrix):\n",
    "        color = 'white' if w > 0 else 'black'\n",
    "        size = numpy.sqrt(numpy.abs(w))\n",
    "        rect = plt.Rectangle([x - size / 2, y - size / 2], size, size,\n",
    "                             facecolor=color, edgecolor=color)\n",
    "        ax.add_patch(rect)\n",
    "\n",
    "    ax.autoscale_view()\n",
    "    ax.invert_yaxis()\n",
    "    "
   ]
  },
  {
   "cell_type": "markdown",
   "metadata": {
    "collapsed": true
   },
   "source": [
    "## Task 4 - Experiments with 1-5 hidden layers (30%)\n",
    "\n",
    "In this task use the learning rate which resulted in the best accuracy in your experiments in Task 3 (b).  Perform the following experiments:\n",
    "\n",
    "  * Train a similar model to Task 3, with one hidden layer, but with 800 hidden units. \n",
    "  * Train 4 additional models with 2, 3, 4 and 5 hidden layers.  Set the number of hidden units for each model, such that all the models have similar number of trainable weights ($\\pm$2%).   For simplicity, for a given model, keep the number of units in each hidden layer the same.\n",
    "  * Plot value of the error function for training and validation sets as a function of training epochs for each model\n",
    "  * Plot the test set classification accuracy as a function of the number of hidden layers\n"
   ]
  },
  {
   "cell_type": "code",
   "execution_count": null,
   "metadata": {
    "collapsed": true
   },
   "outputs": [],
   "source": []
  },
  {
   "cell_type": "markdown",
   "metadata": {
    "collapsed": true
   },
   "source": [
    "This is the end of coursework 1.\n",
    "\n",
    "Please remember to save your notebook, and submit your notebook following the instructions at the top.  Please make sure that you have executed all the code cells when you submit the notebook.\n"
   ]
  }
 ],
 "metadata": {
  "kernelspec": {
   "display_name": "Python 2",
   "language": "python",
   "name": "python2"
  },
  "language_info": {
   "codemirror_mode": {
    "name": "ipython",
    "version": 2
   },
   "file_extension": ".py",
   "mimetype": "text/x-python",
   "name": "python",
   "nbconvert_exporter": "python",
   "pygments_lexer": "ipython2",
   "version": "2.7.9"
  }
 },
 "nbformat": 4,
 "nbformat_minor": 0
}
